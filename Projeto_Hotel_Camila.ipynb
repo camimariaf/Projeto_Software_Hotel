{
  "nbformat": 4,
  "nbformat_minor": 0,
  "metadata": {
    "colab": {
      "provenance": [],
      "authorship_tag": "ABX9TyMyWAMf2f1JnOpuZneS2OKv",
      "include_colab_link": true
    },
    "kernelspec": {
      "name": "python3",
      "display_name": "Python 3"
    },
    "language_info": {
      "name": "python"
    }
  },
  "cells": [
    {
      "cell_type": "markdown",
      "metadata": {
        "id": "view-in-github",
        "colab_type": "text"
      },
      "source": [
        "<a href=\"https://colab.research.google.com/github/camimariaf/Projeto_Software_Hotel/blob/main/Projeto_Hotel_Camila.ipynb\" target=\"_parent\"><img src=\"https://colab.research.google.com/assets/colab-badge.svg\" alt=\"Open In Colab\"/></a>"
      ]
    },
    {
      "cell_type": "markdown",
      "source": [],
      "metadata": {
        "id": "ySRmgrY91J-u"
      }
    },
    {
      "cell_type": "code",
      "source": [
        "clientes, hoteis, avaliacoes = {}, {}, {}\n",
        "id_cliente, id_hotel = 1, 1\n",
        "\n",
        "def adicionar_cliente():\n",
        "  global id_cliente\n",
        "  nome = input(\"Nome: \")\n",
        "  email = input(\"Email: \")\n",
        "  telefone = input(\"Telefone: \")\n",
        "  preferencias = input(\"Preferências de hospedagem: \")\n",
        "  clientes[id_cliente] = {\"Nome\": nome, \"Email\": email, \"Telefone\": telefone, \"Preferências\": preferencias}\n",
        "  print(f\"Cliente {nome} cadastrado com ID {id_cliente}.\\n\")\n",
        "  id_cliente += 1\n",
        "\n",
        "def adicionar_hotel(nome, localizacao):\n",
        "  global id_hotel\n",
        "  hoteis[id_hotel] = {\"Nome\": nome, \"Localização\": localizacao}\n",
        "  avaliacoes[id_hotel] = []\n",
        "  id_hotel += 1\n",
        "\n",
        "def listar(dados, titulo):\n",
        "  \"\"\"Lista clientes ou hotéis cadastrados.\"\"\"\n",
        "  if dados:\n",
        "    print(f\"\\n{titulo}:\")\n",
        "    for id_, info in dados.items():\n",
        "      print(f\"ID {id_} | \" + \" | \".join(f\"{k}: {v}\" for k, v in info.items()))\n",
        "  else:\n",
        "    print(f\"\\nNenhum {titulo.lower()} cadastrado.\")\n",
        "\n",
        "def avaliar_hotel():\n",
        "  if not clientes or not hoteis:\n",
        "    print(\"\\nCadastre um cliente e um hotel antes de avaliar.\\n\")\n",
        "    return\n",
        "\n",
        "  id_cliente = int(input(\"Seu ID de cliente: \"))\n",
        "  id_hotel = int(input(\"ID do hotel que deseja avaliar: \"))\n",
        "  if id_cliente not in clientes or id_hotel not in hoteis:\n",
        "    print(\"Erro: Cliente ou hotel não encontrado.\\n\")\n",
        "    return\n",
        "\n",
        "  nota = int(input(\"Nota (1-5): \"))\n",
        "  if nota < 1 or nota > 5:\n",
        "    print(\"Erro: Nota deve ser entre 1 e 5.\\n\")\n",
        "    return\n",
        "\n",
        "  comentario = input(\"Comentário: \")\n",
        "  avaliacoes[id_hotel].append(f\"{clientes[id_cliente]['Nome']}: {nota}/5 - {comentario}\")\n",
        "  print(\"Avaliação registrada com sucesso!\\n\")\n",
        "\n",
        "def listar_avaliacoes():\n",
        "  id_hotel = int(input(\"ID do hotel para ver avaliações: \"))\n",
        "  if id_hotel not in hoteis:\n",
        "    print(\"Erro: Hotel não encontrado.\\n\")\n",
        "    return\n",
        "\n",
        "  print(f\"\\nAvaliações para {hoteis[id_hotel]['Nome']}:\")\n",
        "  if avaliacoes[id_hotel]:\n",
        "    for av in avaliacoes[id_hotel]:\n",
        "      print(f\"- {av}\")\n",
        "  else:\n",
        "    print(\"Sem avaliações ainda.\\n\")\n",
        "\n",
        "\n",
        "# Adicionando hotéis fixos no sistema\n",
        "adicionar_hotel(\"Hotel Paraíso\", \"Rio de Janeiro\")\n",
        "adicionar_hotel(\"Pousada do Sol\", \"Salvador\")\n",
        "\n",
        "# MENU INTERATIVO\n",
        "while True:\n",
        "  print(\"\\nMenu:\")\n",
        "  print(\"1 - Cadastrar Cliente\")\n",
        "  print(\"2 - Listar Hotéis\")\n",
        "  print(\"3 - Avaliar Hotel\")\n",
        "  print(\"4 - Ver Avaliações\")\n",
        "  print(\"5 - Sair\")\n",
        "\n",
        "  opcao = input(\"Escolha uma opção: \")\n",
        "  if opcao == \"1\":\n",
        "    adicionar_cliente()\n",
        "  elif opcao == \"2\":\n",
        "    listar(hoteis, \"Hotéis Cadastrados\")\n",
        "  elif opcao == \"3\":\n",
        "    avaliar_hotel()\n",
        "  elif opcao == \"4\":\n",
        "    listar_avaliacoes()\n",
        "  elif opcao == \"5\":\n",
        "    print(\"Saindo do sistema. Obrigado!\")\n",
        "    break\n",
        "  else:\n",
        "    print(\"Opção inválida. Tente novamente.\\n\")"
      ],
      "metadata": {
        "id": "pKwSYIab1RMe"
      },
      "execution_count": null,
      "outputs": []
    }
  ]
}